{
 "cells": [
  {
   "cell_type": "code",
   "execution_count": 1,
   "metadata": {},
   "outputs": [],
   "source": [
    "import pandas as pd\n",
    "import numpy as npexodus\n",
    "import matplotlib.pyplot as plt\n",
    "import datetime\n",
    "import random\n",
    "import test\n",
    "import crypto as cp\n",
    "import warnings\n",
    "warnings.simplefilter(action='ignore')\n",
    "pth = '/home/simon/stuff/coding/crypto_dash/data/'"
   ]
  },
  {
   "cell_type": "code",
   "execution_count": 2,
   "metadata": {},
   "outputs": [],
   "source": [
    "trades = cp.trades() "
   ]
  },
  {
   "cell_type": "code",
   "execution_count": 3,
   "metadata": {
    "scrolled": true
   },
   "outputs": [],
   "source": [
    "wallet = cp.build_wallet() "
   ]
  },
  {
   "cell_type": "code",
   "execution_count": 11,
   "metadata": {},
   "outputs": [
    {
     "data": {
      "text/html": [
       "<div>\n",
       "<style scoped>\n",
       "    .dataframe tbody tr th:only-of-type {\n",
       "        vertical-align: middle;\n",
       "    }\n",
       "\n",
       "    .dataframe tbody tr th {\n",
       "        vertical-align: top;\n",
       "    }\n",
       "\n",
       "    .dataframe thead th {\n",
       "        text-align: right;\n",
       "    }\n",
       "</style>\n",
       "<table border=\"1\" class=\"dataframe\">\n",
       "  <thead>\n",
       "    <tr style=\"text-align: right;\">\n",
       "      <th></th>\n",
       "      <th>DATE</th>\n",
       "      <th>AMOUNT</th>\n",
       "      <th>CURRENCY</th>\n",
       "      <th>TYPE</th>\n",
       "    </tr>\n",
       "  </thead>\n",
       "  <tbody>\n",
       "    <tr>\n",
       "      <th>42</th>\n",
       "      <td>2021-01-01 08:50:10+00:00</td>\n",
       "      <td>0.018438</td>\n",
       "      <td>XTZ</td>\n",
       "      <td>deposit</td>\n",
       "    </tr>\n",
       "    <tr>\n",
       "      <th>43</th>\n",
       "      <td>2021-01-03 09:15:55+00:00</td>\n",
       "      <td>0.016927</td>\n",
       "      <td>XTZ</td>\n",
       "      <td>deposit</td>\n",
       "    </tr>\n",
       "    <tr>\n",
       "      <th>44</th>\n",
       "      <td>2021-01-06 10:12:49+00:00</td>\n",
       "      <td>0.017358</td>\n",
       "      <td>XTZ</td>\n",
       "      <td>deposit</td>\n",
       "    </tr>\n",
       "    <tr>\n",
       "      <th>45</th>\n",
       "      <td>2021-01-09 08:41:43+00:00</td>\n",
       "      <td>0.015163</td>\n",
       "      <td>XTZ</td>\n",
       "      <td>deposit</td>\n",
       "    </tr>\n",
       "    <tr>\n",
       "      <th>46</th>\n",
       "      <td>2021-01-11 13:08:38+00:00</td>\n",
       "      <td>0.01396693</td>\n",
       "      <td>BTC</td>\n",
       "      <td>deposit</td>\n",
       "    </tr>\n",
       "    <tr>\n",
       "      <th>...</th>\n",
       "      <td>...</td>\n",
       "      <td>...</td>\n",
       "      <td>...</td>\n",
       "      <td>...</td>\n",
       "    </tr>\n",
       "    <tr>\n",
       "      <th>10</th>\n",
       "      <td>2021-05-31 23:59:59+00:00</td>\n",
       "      <td>0.00013888</td>\n",
       "      <td>BTC</td>\n",
       "      <td>interest</td>\n",
       "    </tr>\n",
       "    <tr>\n",
       "      <th>11</th>\n",
       "      <td>2021-04-30 23:59:59+00:00</td>\n",
       "      <td>0.0001599</td>\n",
       "      <td>BTC</td>\n",
       "      <td>interest</td>\n",
       "    </tr>\n",
       "    <tr>\n",
       "      <th>12</th>\n",
       "      <td>2021-03-31 23:59:59+00:00</td>\n",
       "      <td>0.00015741</td>\n",
       "      <td>BTC</td>\n",
       "      <td>interest</td>\n",
       "    </tr>\n",
       "    <tr>\n",
       "      <th>14</th>\n",
       "      <td>2021-02-28 23:59:59+00:00</td>\n",
       "      <td>8.12e-05</td>\n",
       "      <td>BTC</td>\n",
       "      <td>interest</td>\n",
       "    </tr>\n",
       "    <tr>\n",
       "      <th>15</th>\n",
       "      <td>2021-01-31 23:59:59+00:00</td>\n",
       "      <td>5.599e-05</td>\n",
       "      <td>BTC</td>\n",
       "      <td>interest</td>\n",
       "    </tr>\n",
       "  </tbody>\n",
       "</table>\n",
       "<p>391 rows × 4 columns</p>\n",
       "</div>"
      ],
      "text/plain": [
       "                        DATE      AMOUNT CURRENCY      TYPE\n",
       "42 2021-01-01 08:50:10+00:00    0.018438      XTZ   deposit\n",
       "43 2021-01-03 09:15:55+00:00    0.016927      XTZ   deposit\n",
       "44 2021-01-06 10:12:49+00:00    0.017358      XTZ   deposit\n",
       "45 2021-01-09 08:41:43+00:00    0.015163      XTZ   deposit\n",
       "46 2021-01-11 13:08:38+00:00  0.01396693      BTC   deposit\n",
       "..                       ...         ...      ...       ...\n",
       "10 2021-05-31 23:59:59+00:00  0.00013888      BTC  interest\n",
       "11 2021-04-30 23:59:59+00:00   0.0001599      BTC  interest\n",
       "12 2021-03-31 23:59:59+00:00  0.00015741      BTC  interest\n",
       "14 2021-02-28 23:59:59+00:00    8.12e-05      BTC  interest\n",
       "15 2021-01-31 23:59:59+00:00   5.599e-05      BTC  interest\n",
       "\n",
       "[391 rows x 4 columns]"
      ]
     },
     "execution_count": 11,
     "metadata": {},
     "output_type": "execute_result"
    }
   ],
   "source": [
    "wallet.sort_values(by=['DATE'])\n",
    "start_date = pd.to_datetime('2021/01/01', utc= True)\n",
    "end_date = pd.to_datetime('2021/7/30', utc= True)\n",
    "wallet.loc[(wallet['DATE'] > start_date) & (wallet['DATE'] < end_date)]"
   ]
  },
  {
   "cell_type": "code",
   "execution_count": 17,
   "metadata": {},
   "outputs": [
    {
     "data": {
      "text/plain": [
       "27347.843961153507"
      ]
     },
     "execution_count": 17,
     "metadata": {},
     "output_type": "execute_result"
    }
   ],
   "source": [
    "end_date = pd.to_datetime('2021/7/30', utc= True)\n",
    "value = trades.loc[(trades['CURRENCY'] == 'BTC')& (trades['TYPE']=='BUY')]\n",
    "value = value.loc[value['DATE'] < end_date]\n",
    "value.sort_values(by=['DATE'])\n",
    "value['AMOUNT'].sum() \n",
    "value_monitor = value['TOTAL'].sum() / value['AMOUNT'].sum()\n",
    "value_monitor"
   ]
  },
  {
   "cell_type": "code",
   "execution_count": null,
   "metadata": {},
   "outputs": [],
   "source": [
    "variable_list = trades['CURRENCY'].unique()\n",
    "for variable_name in variable_list:\n",
    "#     balance = wallet.loc[wallet['CURRENCY'] == variable_name, 'AMOUNT'].astype(float).sum()\n",
    "    print(variable_name)\n",
    "#     print(balance)"
   ]
  },
  {
   "cell_type": "code",
   "execution_count": null,
   "metadata": {},
   "outputs": [],
   "source": []
  }
 ],
 "metadata": {
  "kernelspec": {
   "display_name": "Python 3 (ipykernel)",
   "language": "python",
   "name": "python3"
  },
  "language_info": {
   "codemirror_mode": {
    "name": "ipython",
    "version": 3
   },
   "file_extension": ".py",
   "mimetype": "text/x-python",
   "name": "python",
   "nbconvert_exporter": "python",
   "pygments_lexer": "ipython3",
   "version": "3.7.6"
  }
 },
 "nbformat": 4,
 "nbformat_minor": 4
}
